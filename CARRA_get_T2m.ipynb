{
 "cells": [
  {
   "cell_type": "markdown",
   "metadata": {},
   "source": [
    "![logo](./img/LogoLine_horizon_C3S.png)"
   ]
  },
  {
   "cell_type": "markdown",
   "metadata": {},
   "source": [
    "## Tutorial on fetching CARRA data from CDS\n",
    "\n",
    "CARRA data can be found in the CDS (Copernicus Climate Data Store, https://cds.climate.copernicus.eu/cdsapp#!/home).\n",
    "You need to create an account and accept the terms and conditions for all datasets that you want to use.\n",
    "\n",
    "\n",
    "### Fetching CARRA data\n",
    "The source code will download the month of June 2023. By specifying the start and end date below you can easily download longer periods. We are selecting 2m temperature and single levels. \n",
    "Here, we download the 3-hourly analysis time steps and the data will be stored in a specified file.\n",
    "ERA5 data will also be downloaded, for later comparison with CARRA in the next tutorials.\n",
    "For more details on ERA5 data download please see the [CDS tutorials in this link](https://github.com/ecmwf-projects/copernicus-training-c3s)\n"
   ]
  },
  {
   "cell_type": "code",
   "execution_count": 1,
   "metadata": {},
   "outputs": [],
   "source": [
    "# Here one specifies the domain, year and period to download\n",
    "\n",
    "yearStart = 2023 #first year to download\n",
    "yearEnd   = 2023 #last year to download\n",
    "monthStart =  6 # first month to download\n",
    "monthEnd   =  6 #last month to download\n",
    "days = [str(i).zfill(2) for i in range(1,31)] # the list of days to download. Adapt day number for other months\n",
    "domain = 'west_domain' # the domain to select. Use \"east_domain\" for the East domain\n",
    "\n",
    "# the local directory where the data will be stored\n",
    "DATADIR=\"CARRA\"\n"
   ]
  },
  {
   "cell_type": "markdown",
   "metadata": {},
   "source": [
    "---"
   ]
  },
  {
   "cell_type": "code",
   "execution_count": 4,
   "metadata": {},
   "outputs": [],
   "source": [
    "import cdsapi\n",
    "import os\n",
    "# create directory to store CARRA data if it does not exist already:\n",
    "if not os.path.isdir(DATADIR):\n",
    "    os.makedirs(os.path.join(DATADIR,\"Raw_data\"))\n",
    "c = cdsapi.Client()\n",
    "\n",
    "# define a helper function to download the data\n",
    "# Note that the time is hardcoded since we are selecting\n",
    "# all possible available times. \n",
    "def fetch_one_month(month, year, days, domain):\n",
    "    c.retrieve(\n",
    "        'reanalysis-carra-single-levels',\n",
    "        {\n",
    "            'format': 'grib',\n",
    "            'domain': domain ,\n",
    "            'level_type': 'surface_or_atmosphere',\n",
    "            'variable': '2m_temperature',\n",
    "            'product_type': 'analysis',\n",
    "            'year': year,\n",
    "            'month': month,\n",
    "            'day': days,\n",
    "            'time': [\n",
    "                '00:00', '03:00', '06:00',\n",
    "                '09:00', '12:00', '15:00',\n",
    "                '18:00', '21:00',\n",
    "            ],\n",
    "        },\n",
    "        os.path.join(DATADIR,\"Raw_data\",'T2m_an_'+str(year)+\"{:02d}\".format(month)+'.grb'))\n",
    "\n",
    "    \n",
    "\n"
   ]
  },
  {
   "cell_type": "code",
   "execution_count": 5,
   "metadata": {},
   "outputs": [
    {
     "name": "stdout",
     "output_type": "stream",
     "text": [
      "Data will be fetched for  2023 6\n"
     ]
    },
    {
     "name": "stderr",
     "output_type": "stream",
     "text": [
      "2024-06-03 09:20:50,670 INFO Welcome to the CDS\n",
      "2024-06-03 09:20:50,671 INFO Sending request to https://cds.climate.copernicus.eu/api/v2/resources/reanalysis-carra-single-levels\n",
      "2024-06-03 09:20:50,964 INFO Request is queued\n",
      "2024-06-03 09:20:52,016 INFO Request is running\n",
      "2024-06-03 09:23:42,665 INFO Request is completed\n",
      "2024-06-03 09:23:42,666 INFO Downloading https://download-0000-clone.copernicus-climate.eu/cache-compute-0000/cache/data6/adaptor.mars.external-1717399370.450206-25825-19-d53067bf-e545-4820-aad0-5767a2eb6ee3.grib to CARRA/Raw_data/T2m_an_202306.grb (621.2M)\n",
      "2024-06-03 09:25:33,262 INFO Download rate 5.6M/s                                                                                            \n"
     ]
    }
   ],
   "source": [
    "# Loop through the period selected\n",
    "for year in list(range(yearStart, yearEnd + 1)):\n",
    "    for month in list(range(1,13)):\n",
    "        if year == yearStart and month < monthStart:\n",
    "            # Before the start date.\n",
    "            continue\n",
    "        if year == yearEnd and month > monthEnd:\n",
    "            # After end date.\n",
    "            break\n",
    "\n",
    "        print (\"Data will be fetched for \", year, month)\n",
    "        print(\"This will take a few minutes, depending on the data size (~621 MB in this case)\")\n",
    "        fetch_one_month(month, year, days, domain)"
   ]
  },
  {
   "cell_type": "raw",
   "metadata": {},
   "source": [
    "---"
   ]
  },
  {
   "cell_type": "markdown",
   "metadata": {},
   "source": [
    "### Fetching ERA5 data\n",
    "\n",
    "Here, you downlaod one month of ERA5 data (June 2023). Same as for CARRA, we download 3-hourly data though ERA5 does offer hourly analyses."
   ]
  },
  {
   "cell_type": "markdown",
   "metadata": {},
   "source": [
    "---"
   ]
  },
  {
   "cell_type": "code",
   "execution_count": 5,
   "metadata": {},
   "outputs": [
    {
     "name": "stderr",
     "output_type": "stream",
     "text": [
      "2024-05-15 12:27:20,900 INFO Welcome to the CDS\n",
      "2024-05-15 12:27:20,901 INFO Sending request to https://cds.climate.copernicus.eu/api/v2/resources/reanalysis-era5-single-levels\n",
      "2024-05-15 12:27:21,525 INFO Request is queued\n",
      "2024-05-15 12:27:22,593 INFO Request is running\n",
      "2024-05-15 12:28:11,317 INFO Request is completed\n",
      "2024-05-15 12:28:11,318 INFO Downloading https://download-0001-clone.copernicus-climate.eu/cache-compute-0001/cache/data3/adaptor.mars.internal-1715768883.9647436-16931-13-032aa7aa-fae9-49f8-845a-43b7d22902f6.nc to CARRA/ERA5/era5_t2m_202306.nc (38.8M)\n",
      "2024-05-15 12:28:17,870 INFO Download rate 5.9M/s                               \n"
     ]
    },
    {
     "data": {
      "text/plain": [
       "Result(content_length=40680676,content_type=application/x-netcdf,location=https://download-0001-clone.copernicus-climate.eu/cache-compute-0001/cache/data3/adaptor.mars.internal-1715768883.9647436-16931-13-032aa7aa-fae9-49f8-845a-43b7d22902f6.nc)"
      ]
     },
     "execution_count": 5,
     "metadata": {},
     "output_type": "execute_result"
    }
   ],
   "source": [
    "DATADIR=os.path.join(\"CARRA\",\"ERA5\") \n",
    "# create the directory where the data will be stored if it does not exist already\n",
    "\n",
    "if not os.path.isdir(DATADIR):\n",
    "    os.makedirs(DATADIR)\n",
    "# Retrieve the data. Note that the are corresponding roughly to Greenland\n",
    "# is selected, otherwise all the data for the world will be downloaded.\n",
    "\n",
    "c.retrieve(\n",
    "    'reanalysis-era5-single-levels',\n",
    "    {\n",
    "        'product_type': 'reanalysis',\n",
    "        'variable': '2m_temperature',\n",
    "        'year': str(yearStart),\n",
    "        'month': str(monthStart).zfill(2),\n",
    "        'day': days,\n",
    "        'time': [\n",
    "            '00:00', '03:00', '06:00',\n",
    "            '09:00', '12:00', '15:00',\n",
    "            '18:00', '21:00',\n",
    "        ],\n",
    "        'area': [\n",
    "            90, -110, 55,\n",
    "            40,\n",
    "        ],\n",
    "        'format': 'netcdf',\n",
    "    },\n",
    "    os.path.join(DATADIR,'era5_t2m_202306.nc'))"
   ]
  },
  {
   "cell_type": "code",
   "execution_count": null,
   "metadata": {},
   "outputs": [],
   "source": []
  }
 ],
 "metadata": {
  "kernelspec": {
   "display_name": "Python 3 (ipykernel)",
   "language": "python",
   "name": "python3"
  },
  "language_info": {
   "codemirror_mode": {
    "name": "ipython",
    "version": 3
   },
   "file_extension": ".py",
   "mimetype": "text/x-python",
   "name": "python",
   "nbconvert_exporter": "python",
   "pygments_lexer": "ipython3",
   "version": "3.9.16"
  }
 },
 "nbformat": 4,
 "nbformat_minor": 4
}

{
  "cells": [
    {
      "cell_type": "raw",
      "metadata": {},
      "source": [
        "---\n",
        "title: 'CARRA tutorial to download and plot data, part I'\n",
        "format: html\n",
        "author: Semjon Schimanke\n",
        "date: 19 September 2023\n",
        "date-modified: last-modified\n",
        "lang: en\n",
        "---"
      ]
    },
    {
      "cell_type": "markdown",
      "metadata": {},
      "source": [
        "## Overview\n",
        "\n",
        "CARRA data can be found in the CDS (Copernicus Climate Data Store, https://cds.climate.copernicus.eu/cdsapp#!/home).\n",
        "You need to create an account and accept the terms and conditions for all datasets that you want to use.\n",
        "\n",
        "\n",
        "### Fetching CARRA data\n",
        "The source coode will download the month of June 2023. By specifying the start and end date below you can easely download longer periods.\n",
        "Here, we download the 3-hourly analysis time steps and the data will be stored in a specified file."
      ]
    },
    {
      "cell_type": "markdown",
      "metadata": {},
      "source": [
        "---"
      ]
    },
    {
      "cell_type": "code",
      "metadata": {},
      "source": [
        "import cdsapi\n",
        "\n",
        "c = cdsapi.Client()\n",
        "\n",
        "def fetch_one_month(month, year):\n",
        "    c.retrieve(\n",
        "        'reanalysis-carra-single-levels',\n",
        "        {\n",
        "            'format': 'grib',\n",
        "            'domain': 'west_domain',\n",
        "            'level_type': 'surface_or_atmosphere',\n",
        "            'variable': '2m_temperature',\n",
        "            'product_type': 'analysis',\n",
        "            'year': year,\n",
        "            'month': month,\n",
        "            'day': [\n",
        "                '01', '02', '03',\n",
        "                '04', '05', '06',\n",
        "                '07', '08', '09',\n",
        "                '10', '11', '12',\n",
        "                '13', '14', '15',\n",
        "                '16', '17', '18',\n",
        "                '19', '20', '21',\n",
        "                '22', '23', '24',\n",
        "                '25', '26', '27',\n",
        "                '28', '29', '30',\n",
        "                '31',\n",
        "            ],\n",
        "            'time': [\n",
        "                '00:00', '03:00', '06:00',\n",
        "                '09:00', '12:00', '15:00',\n",
        "                '18:00', '21:00',\n",
        "            ],\n",
        "        },\n",
        "        '/ec/res4/scratch/smos/CARRA/Raw_data/T2m_an_'+str(year)+\"{:02d}\".format(month)+'.grb')\n",
        "\n",
        "    \n",
        "yearStart = 2023\n",
        "yearEnd   = 2023\n",
        "monthStart =  6\n",
        "monthEnd   =  6\n",
        "for year in list(range(yearStart, yearEnd + 1)):\n",
        "    for month in list(range(1,13)):\n",
        "        if year == yearStart and month < monthStart:\n",
        "            # Before the start date.\n",
        "            continue\n",
        "        if year == yearEnd and month > monthEnd:\n",
        "            # After end date.\n",
        "            break\n",
        "\n",
        "        print (\"Data will be fetched for \", year, month)\n",
        "        fetch_one_month(month, year)"
      ],
      "execution_count": null,
      "outputs": []
    },
    {
      "cell_type": "raw",
      "metadata": {},
      "source": [
        "---"
      ]
    },
    {
      "cell_type": "markdown",
      "metadata": {},
      "source": [
        "### Fetching ERA5 data\n",
        "\n",
        "Here, you downlaod one month of ERA5 data (June 2023). Same as for CARRA, we download 3-hourly data though ERA5 does offer hourly analyses."
      ]
    },
    {
      "cell_type": "markdown",
      "metadata": {},
      "source": [
        "---"
      ]
    },
    {
      "cell_type": "code",
      "metadata": {},
      "source": [
        "c.retrieve(\n",
        "    'reanalysis-era5-single-levels',\n",
        "    {\n",
        "        'product_type': 'reanalysis',\n",
        "        'variable': '2m_temperature',\n",
        "        'year': '2023',\n",
        "        'month': '06',\n",
        "        'day': [\n",
        "            '01', '02', '03',\n",
        "            '04', '05', '06',\n",
        "            '07', '08', '09',\n",
        "            '10', '11', '12',\n",
        "            '13', '14', '15',\n",
        "            '16', '17', '18',\n",
        "            '19', '20', '21',\n",
        "            '22', '23', '24',\n",
        "            '25', '26', '27',\n",
        "            '28', '29', '30',\n",
        "        ],\n",
        "        'time': [\n",
        "            '00:00', '03:00', '06:00',\n",
        "            '09:00', '12:00', '15:00',\n",
        "            '18:00', '21:00',\n",
        "        ],\n",
        "        'area': [\n",
        "            90, -110, 55,\n",
        "            40,\n",
        "        ],\n",
        "        'format': 'netcdf',\n",
        "    },\n",
        "    '/ec/res4/scratch/smos/CARRA/ERA5/era5_t2m_202306.nc')"
      ],
      "execution_count": null,
      "outputs": []
    }
  ],
  "metadata": {
    "kernelspec": {
      "name": "python3",
      "language": "python",
      "display_name": "Python 3 (ipykernel)"
    }
  },
  "nbformat": 4,
  "nbformat_minor": 4
}
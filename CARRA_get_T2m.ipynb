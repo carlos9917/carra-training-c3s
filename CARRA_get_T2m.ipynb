{
 "cells": [
  {
   "cell_type": "markdown",
   "metadata": {},
   "source": [
    "![logo](./img/LogoLine_horizon_C3S.png)"
   ]
  },
  {
   "cell_type": "markdown",
   "metadata": {},
   "source": [
    "## Tutorial on fetching CARRA data from CDS\n",
    "\n",
    "CARRA data can be found in the CDS (Copernicus Climate Data Store, https://cds.climate.copernicus.eu/cdsapp#!/home).\n",
    "You need to create an account and accept the terms and conditions for all datasets that you want to use.\n",
    "\n",
    "\n",
    "### Fetching CARRA data\n",
    "The source coode will download the month of June 2023. By specifying the start and end date below you can easely download longer periods.\n",
    "Here, we download the 3-hourly analysis time steps and the data will be stored in a specified file."
   ]
  },
  {
   "cell_type": "markdown",
   "metadata": {},
   "source": [
    "---"
   ]
  },
  {
   "cell_type": "code",
   "execution_count": 4,
   "metadata": {},
   "outputs": [
    {
     "name": "stdout",
     "output_type": "stream",
     "text": [
      "Data will be fetched for  2023 6\n"
     ]
    },
    {
     "name": "stderr",
     "output_type": "stream",
     "text": [
      "2024-05-15 12:22:12,442 INFO Welcome to the CDS\n",
      "2024-05-15 12:22:12,443 INFO Sending request to https://cds.climate.copernicus.eu/api/v2/resources/reanalysis-carra-single-levels\n",
      "2024-05-15 12:22:12,546 INFO Request is completed\n",
      "2024-05-15 12:22:12,547 INFO Downloading https://download-0001-clone.copernicus-climate.eu/cache-compute-0001/cache/data5/adaptor.mars.external-1715768399.6479416-7306-18-2fd9f25c-da29-4e23-ac48-2b6b97793827.grib to CARRA/Raw_data/T2m_an_202306.grb (621.2M)\n",
      "2024-05-15 12:24:47,014 INFO Download rate 4M/s                                 \n"
     ]
    }
   ],
   "source": [
    "import cdsapi\n",
    "import os\n",
    "\n",
    "DATADIR=\"CARRA\"\n",
    "if not os.path.isdir(DATADIR):\n",
    "    os.makedirs(os.path.join(DATADIR,\"Raw_data\"))\n",
    "c = cdsapi.Client()\n",
    "\n",
    "def fetch_one_month(month, year):\n",
    "    c.retrieve(\n",
    "        'reanalysis-carra-single-levels',\n",
    "        {\n",
    "            'format': 'grib',\n",
    "            'domain': 'west_domain',\n",
    "            'level_type': 'surface_or_atmosphere',\n",
    "            'variable': '2m_temperature',\n",
    "            'product_type': 'analysis',\n",
    "            'year': year,\n",
    "            'month': month,\n",
    "            'day': [\n",
    "                '01', '02', '03',\n",
    "                '04', '05', '06',\n",
    "                '07', '08', '09',\n",
    "                '10', '11', '12',\n",
    "                '13', '14', '15',\n",
    "                '16', '17', '18',\n",
    "                '19', '20', '21',\n",
    "                '22', '23', '24',\n",
    "                '25', '26', '27',\n",
    "                '28', '29', '30',\n",
    "                '31',\n",
    "            ],\n",
    "            'time': [\n",
    "                '00:00', '03:00', '06:00',\n",
    "                '09:00', '12:00', '15:00',\n",
    "                '18:00', '21:00',\n",
    "            ],\n",
    "        },\n",
    "        os.path.join(DATADIR,\"Raw_data\",'T2m_an_'+str(year)+\"{:02d}\".format(month)+'.grb'))\n",
    "\n",
    "    \n",
    "yearStart = 2023\n",
    "yearEnd   = 2023\n",
    "monthStart =  6\n",
    "monthEnd   =  6\n",
    "for year in list(range(yearStart, yearEnd + 1)):\n",
    "    for month in list(range(1,13)):\n",
    "        if year == yearStart and month < monthStart:\n",
    "            # Before the start date.\n",
    "            continue\n",
    "        if year == yearEnd and month > monthEnd:\n",
    "            # After end date.\n",
    "            break\n",
    "\n",
    "        print (\"Data will be fetched for \", year, month)\n",
    "        fetch_one_month(month, year)"
   ]
  },
  {
   "cell_type": "raw",
   "metadata": {},
   "source": [
    "---"
   ]
  },
  {
   "cell_type": "markdown",
   "metadata": {},
   "source": [
    "### Fetching ERA5 data\n",
    "\n",
    "Here, you downlaod one month of ERA5 data (June 2023). Same as for CARRA, we download 3-hourly data though ERA5 does offer hourly analyses."
   ]
  },
  {
   "cell_type": "markdown",
   "metadata": {},
   "source": [
    "---"
   ]
  },
  {
   "cell_type": "code",
   "execution_count": 5,
   "metadata": {},
   "outputs": [
    {
     "name": "stderr",
     "output_type": "stream",
     "text": [
      "2024-05-15 12:27:20,900 INFO Welcome to the CDS\n",
      "2024-05-15 12:27:20,901 INFO Sending request to https://cds.climate.copernicus.eu/api/v2/resources/reanalysis-era5-single-levels\n",
      "2024-05-15 12:27:21,525 INFO Request is queued\n",
      "2024-05-15 12:27:22,593 INFO Request is running\n",
      "2024-05-15 12:28:11,317 INFO Request is completed\n",
      "2024-05-15 12:28:11,318 INFO Downloading https://download-0001-clone.copernicus-climate.eu/cache-compute-0001/cache/data3/adaptor.mars.internal-1715768883.9647436-16931-13-032aa7aa-fae9-49f8-845a-43b7d22902f6.nc to CARRA/ERA5/era5_t2m_202306.nc (38.8M)\n",
      "2024-05-15 12:28:17,870 INFO Download rate 5.9M/s                               \n"
     ]
    },
    {
     "data": {
      "text/plain": [
       "Result(content_length=40680676,content_type=application/x-netcdf,location=https://download-0001-clone.copernicus-climate.eu/cache-compute-0001/cache/data3/adaptor.mars.internal-1715768883.9647436-16931-13-032aa7aa-fae9-49f8-845a-43b7d22902f6.nc)"
      ]
     },
     "execution_count": 5,
     "metadata": {},
     "output_type": "execute_result"
    }
   ],
   "source": [
    "DATADIR=os.path.join(\"CARRA\",\"ERA5\")\n",
    "if not os.path.isdir(DATADIR):\n",
    "    os.makedirs(DATADIR)\n",
    "                \n",
    "c.retrieve(\n",
    "    'reanalysis-era5-single-levels',\n",
    "    {\n",
    "        'product_type': 'reanalysis',\n",
    "        'variable': '2m_temperature',\n",
    "        'year': '2023',\n",
    "        'month': '06',\n",
    "        'day': [\n",
    "            '01', '02', '03',\n",
    "            '04', '05', '06',\n",
    "            '07', '08', '09',\n",
    "            '10', '11', '12',\n",
    "            '13', '14', '15',\n",
    "            '16', '17', '18',\n",
    "            '19', '20', '21',\n",
    "            '22', '23', '24',\n",
    "            '25', '26', '27',\n",
    "            '28', '29', '30',\n",
    "        ],\n",
    "        'time': [\n",
    "            '00:00', '03:00', '06:00',\n",
    "            '09:00', '12:00', '15:00',\n",
    "            '18:00', '21:00',\n",
    "        ],\n",
    "        'area': [\n",
    "            90, -110, 55,\n",
    "            40,\n",
    "        ],\n",
    "        'format': 'netcdf',\n",
    "    },\n",
    "    os.path.join(DATADIR,'era5_t2m_202306.nc'))"
   ]
  },
  {
   "cell_type": "code",
   "execution_count": null,
   "metadata": {},
   "outputs": [],
   "source": []
  }
 ],
 "metadata": {
  "kernelspec": {
   "display_name": "Python 3 (ipykernel)",
   "language": "python",
   "name": "python3"
  },
  "language_info": {
   "codemirror_mode": {
    "name": "ipython",
    "version": 3
   },
   "file_extension": ".py",
   "mimetype": "text/x-python",
   "name": "python",
   "nbconvert_exporter": "python",
   "pygments_lexer": "ipython3",
   "version": "3.11.7"
  }
 },
 "nbformat": 4,
 "nbformat_minor": 4
}

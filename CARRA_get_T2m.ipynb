{
 "cells": [
  {
   "cell_type": "markdown",
   "metadata": {},
   "source": [
    "![logo](./img/LogoLine_horizon_C3S.png)"
   ]
  },
  {
   "cell_type": "markdown",
   "metadata": {},
   "source": [
    "## Tutorial on fetching CARRA data from CDS\n",
    "\n",
    "CARRA data can be found in the CDS (Copernicus Climate Data Store, https://cds.climate.copernicus.eu/cdsapp#!/home).\n",
    "You need to create an account and accept the terms and conditions for all datasets that you want to use.\n",
    "\n",
    "\n",
    "### Fetching CARRA data\n",
    "The source code will download the month of June 2023. By specifying the start and end date below you can easily download longer periods. We are selecting 2m temperature and single levels. \n",
    "Here, we download the 3-hourly analysis time steps and the data will be stored in a specified file.\n",
    "ERA5 data will also be downloaded, for later comparison with CARRA in the next tutorials.\n",
    "For more details on ERA5 data download please see the [CDS tutorials in this link](https://github.com/ecmwf-projects/copernicus-training-c3s)\n"
   ]
  },
  {
   "cell_type": "markdown",
   "metadata": {},
   "source": [
    "<style>\n",
    "td, th {\n",
    "   border: 1px solid white;\n",
    "   border-collapse: collapse;\n",
    "}\n",
    "</style>\n",
    "<table align=\"left\">\n",
    "  <tr>\n",
    "    <th>Run the tutorial via free cloud platforms: </th>\n",
    "    <th><a href=\"https://mybinder.org/v2/gh/carlos9917/carra-training-c3s/main?labpath=CARRA_get_T2m.ipynb\">\n",
    "        <img src = \"https://mybinder.org/badge.svg\" alt = \"Binder\"></th>\n",
    "    <th><a href=\"https://kaggle.com/kernels/welcome?src=https://github.com/carlos9917/carra-training-c3s/blob/main/CARRA_get_T2m.ipynb\">\n",
    "        <img src = \"https://kaggle.com/static/images/open-in-kaggle.svg\" alt = \"Kaggle\"></th>\n",
    "    <th><a href=\"https://colab.research.google.com/github/carlos9917/carra-training-c3s/blob/main/CARRA_get_T2m.ipynb\">\n",
    "        <img src = \"https://colab.research.google.com/assets/colab-badge.svg\" alt = \"Colab\"></th>\n",
    "  </tr>\n",
    "</table>"
   ]
  },
  {
   "cell_type": "code",
   "execution_count": 6,
   "metadata": {},
   "outputs": [],
   "source": [
    "# Here one specifies the domain, year and period to download\n",
    "\n",
    "yearStart = 2024 #first year to download\n",
    "yearEnd   = 2024 #last year to download\n",
    "monthStart =  3 # first month to download\n",
    "monthEnd   =  3 #last month to download\n",
    "days = [str(i).zfill(2) for i in range(1,31)] # the list of days to download. Adapt day number for other months\n",
    "domain = 'west_domain' # the domain to select. Use \"east_domain\" for the East domain\n",
    "# the local directory where the data will be stored\n",
    "DATADIR=\"CARRA\"\n",
    "#Below a polygon to limit the area downloaded from ERA5, otherwise it will download the whole world\n",
    "area_for_era5 = [90, -110, 55, 40] #west domain polygon, format: North,West,South,East corners\n",
    "#area_for_era5 = [85,0,60,50]: east domain polygon\n",
    "        "
   ]
  },
  {
   "cell_type": "markdown",
   "metadata": {},
   "source": [
    "---"
   ]
  },
  {
   "cell_type": "code",
   "execution_count": 7,
   "metadata": {},
   "outputs": [],
   "source": [
    "import cdsapi\n",
    "import os\n",
    "# create directory to store CARRA data if it does not exist already:\n",
    "if not os.path.isdir(DATADIR):\n",
    "    os.makedirs(os.path.join(DATADIR,\"Raw_data\"))\n",
    "c = cdsapi.Client()\n",
    "\n",
    "# define a helper function to download the data\n",
    "# Note that the time is hardcoded since we are selecting\n",
    "# all possible available times. \n",
    "def fetch_one_month(month, year, days, domain):\n",
    "    c.retrieve(\n",
    "        'reanalysis-carra-single-levels',\n",
    "        {\n",
    "            'format': 'grib',\n",
    "            'domain': domain ,\n",
    "            'level_type': 'surface_or_atmosphere',\n",
    "            'variable': '2m_temperature',\n",
    "            'product_type': 'analysis',\n",
    "            'year': year,\n",
    "            'month': month,\n",
    "            'day': days,\n",
    "            'time': [\n",
    "                '00:00', '03:00', '06:00',\n",
    "                '09:00', '12:00', '15:00',\n",
    "                '18:00', '21:00',\n",
    "            ],\n",
    "        },\n",
    "        os.path.join(DATADIR,\"Raw_data\",'T2m_an_'+str(year)+\"{:02d}\".format(month)+'.grb'))\n",
    "\n",
    "    \n",
    "\n"
   ]
  },
  {
   "cell_type": "code",
   "execution_count": 8,
   "metadata": {},
   "outputs": [
    {
     "name": "stdout",
     "output_type": "stream",
     "text": [
      "Data will be fetched for  2024 3\n",
      "This will take a few minutes, depending on the data size (~621 MB for west, ~357 MB for east case)\n"
     ]
    },
    {
     "name": "stderr",
     "output_type": "stream",
     "text": [
      "2024-06-05 19:43:25,937 INFO Welcome to the CDS\n",
      "2024-06-05 19:43:25,938 INFO Sending request to https://cds.climate.copernicus.eu/api/v2/resources/reanalysis-carra-single-levels\n",
      "2024-06-05 19:43:26,116 INFO Request is queued\n",
      "2024-06-05 19:43:58,795 INFO Request is running\n",
      "2024-06-05 19:44:41,695 INFO Request is completed\n",
      "2024-06-05 19:44:41,696 INFO Downloading https://download-0003-clone.copernicus-climate.eu/cache-compute-0003/cache/data5/adaptor.mars.external-1717609430.079638-3752-5-89b29582-770c-406f-8a2d-8e6ec9f7e879.grib to CARRA/Raw_data/T2m_an_202403.grb (621.2M)\n",
      "2024-06-05 19:47:47,972 INFO Download rate 3.3M/s                                                                                            \n"
     ]
    }
   ],
   "source": [
    "# Loop through the period selected\n",
    "for year in list(range(yearStart, yearEnd + 1)):\n",
    "    for month in list(range(1,13)):\n",
    "        if year == yearStart and month < monthStart:\n",
    "            # Before the start date.\n",
    "            continue\n",
    "        if year == yearEnd and month > monthEnd:\n",
    "            # After end date.\n",
    "            break\n",
    "\n",
    "        print (\"Data will be fetched for \", year, month)\n",
    "        print(\"This will take a few minutes, depending on the data size (~621 MB for west, ~357 MB for east case)\")\n",
    "        fetch_one_month(month, year, days, domain)"
   ]
  },
  {
   "cell_type": "raw",
   "metadata": {},
   "source": [
    "---"
   ]
  },
  {
   "cell_type": "markdown",
   "metadata": {},
   "source": [
    "### Fetching ERA5 data\n",
    "\n",
    "Here, you downlaod one month of ERA5 data (June 2023). Same as for CARRA, we download 3-hourly data though ERA5 does offer hourly analyses."
   ]
  },
  {
   "cell_type": "markdown",
   "metadata": {},
   "source": [
    "---"
   ]
  },
  {
   "cell_type": "code",
   "execution_count": 9,
   "metadata": {},
   "outputs": [
    {
     "name": "stderr",
     "output_type": "stream",
     "text": [
      "2024-06-05 19:48:13,668 INFO Welcome to the CDS\n",
      "2024-06-05 19:48:13,669 INFO Sending request to https://cds.climate.copernicus.eu/api/v2/resources/reanalysis-era5-single-levels\n",
      "2024-06-05 19:48:13,787 INFO Downloading https://download-0016.copernicus-climate.eu/cache-compute-0016/cache/data8/adaptor.mars.internal-1717608329.8119001-29397-4-04898c6c-c581-4d76-b847-9c47bcf39051.nc to CARRA/ERA5/era5_t2m_202403.grb (38.8M)\n"
     ]
    },
    {
     "name": "stdout",
     "output_type": "stream",
     "text": [
      "ERA5 data will be fetched for  2024 3\n",
      "This will take a few minutes, depending on the data size (~39 MB for west area)\n"
     ]
    },
    {
     "name": "stderr",
     "output_type": "stream",
     "text": [
      "2024-06-05 19:48:25,849 INFO Download rate 3.2M/s                                                                                            \n"
     ]
    }
   ],
   "source": [
    "DATADIR=os.path.join(\"CARRA\",\"ERA5\") \n",
    "# create the directory where the data will be stored if it does not exist already\n",
    "\n",
    "if not os.path.isdir(DATADIR):\n",
    "    os.makedirs(DATADIR)\n",
    "    \n",
    "# Help function to download ERA5 data\n",
    "def fetch_month_era5(month, year, days, area):\n",
    "    c.retrieve(\n",
    "    'reanalysis-era5-single-levels',\n",
    "    {\n",
    "        'product_type': 'reanalysis',\n",
    "        'variable': '2m_temperature',\n",
    "        'year': str(year),\n",
    "        'month': str(month).zfill(2),\n",
    "        'day': days,\n",
    "        'time': [\n",
    "            '00:00', '03:00', '06:00',\n",
    "            '09:00', '12:00', '15:00',\n",
    "            '18:00', '21:00',\n",
    "        ],\n",
    "        'area': area,\n",
    "        'format': 'netcdf',\n",
    "    },\n",
    "     os.path.join(DATADIR,'era5_t2m_'+str(year)+\"{:02d}\".format(month)+'.grb'))\n",
    "    \n",
    "# Loop through the period selected\n",
    "for year in list(range(yearStart, yearEnd + 1)):\n",
    "    for month in list(range(1,13)):\n",
    "        if year == yearStart and month < monthStart:\n",
    "            # Before the start date.\n",
    "            continue\n",
    "        if year == yearEnd and month > monthEnd:\n",
    "            # After end date.\n",
    "            break\n",
    "\n",
    "        print (\"ERA5 data will be fetched for \", year, month)\n",
    "        print(\"This will take a few minutes, depending on the data size (~39 MB for west area)\")\n",
    "        fetch_month_era5(month, year, days, area_for_era5)"
   ]
  },
  {
   "cell_type": "code",
   "execution_count": null,
   "metadata": {},
   "outputs": [],
   "source": []
  }
 ],
 "metadata": {
  "kernelspec": {
   "display_name": "Python 3 (ipykernel)",
   "language": "python",
   "name": "python3"
  },
  "language_info": {
   "codemirror_mode": {
    "name": "ipython",
    "version": 3
   },
   "file_extension": ".py",
   "mimetype": "text/x-python",
   "name": "python",
   "nbconvert_exporter": "python",
   "pygments_lexer": "ipython3",
   "version": "3.9.16"
  }
 },
 "nbformat": 4,
 "nbformat_minor": 4
}

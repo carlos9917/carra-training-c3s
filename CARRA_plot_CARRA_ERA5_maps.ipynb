{
  "cells": [
    {
      "cell_type": "raw",
      "metadata": {},
      "source": [
        "---\n",
        "title: 'CARRA tutorial to download and plot data, part III'\n",
        "format: html\n",
        "author: Semjon Schimanke\n",
        "date: 19 September 2023\n",
        "date-modified: last-modified\n",
        "lang: en\n",
        "---"
      ]
    },
    {
      "cell_type": "markdown",
      "metadata": {},
      "source": [
        "## Overview\n",
        "\n",
        "Here, we do a comparison of CARRA with ERA5. The data was downloaded in script I.\n",
        "\n",
        "To perform the comparison, we interpolate the ERA5 data onto the CARRA grid with help of the CDOs.\n",
        "\n",
        "### Define the files needed for the interpolation.\n",
        "The CDO command uses the grid description from the CARRA file to interpolate the ERA5 data. The corresponding files are defined here."
      ]
    },
    {
      "cell_type": "code",
      "metadata": {},
      "source": [
        "DATADIR = '/ec/res4/scratch/smos/CARRA'\n",
        "fCARRA = f'{DATADIR}/Raw_data/T2m_an_202306.grb'\n",
        "fERA5 = f'{DATADIR}/ERA5/era5_t2m_202306.nc'\n",
        "fERA5_CARRA_grid = f'{DATADIR}/ERA5/era5_t2m_202306_CARRA_grid.nc'"
      ],
      "execution_count": null,
      "outputs": []
    },
    {
      "cell_type": "markdown",
      "metadata": {},
      "source": [
        "### Interpolation to CARRA grid with CDO\n",
        "After importing the CDOs into python it is one line to interpolate between the grids.\n",
        "Note that CDO can handle both GRIB format and NetCDF data. For instance, CARRA is downloaded in GRIB whereas we downloaded ERA5 as NetCDF.\n",
        "\n",
        "More information regarding the CDOs (Climate data operators) can be found at https://code.mpimet.mpg.de/projects/cdo"
      ]
    },
    {
      "cell_type": "code",
      "metadata": {},
      "source": [
        "from cdo import *\n",
        "cdo   = Cdo()\n",
        "\n",
        "cdo.remapbil(fCARRA, input=fERA5, output=fERA5_CARRA_grid)"
      ],
      "execution_count": null,
      "outputs": []
    },
    {
      "cell_type": "markdown",
      "metadata": {},
      "source": [
        "### Open the datasets (similar to script II)"
      ]
    },
    {
      "cell_type": "code",
      "metadata": {},
      "source": [
        "import xarray as xr\n",
        "\n",
        "# Open Datasets\n",
        "CARRA = xr.open_dataset(fCARRA)\n",
        "ERA5  = xr.open_dataset(fERA5_CARRA_grid)\n",
        "\n",
        "# Compute monthly mean\n",
        "print(\"Compute the mean\")\n",
        "CARRA_mean = CARRA.mean(dim=\"time\", keep_attrs=True)\n",
        "ERA5_mean = ERA5.mean(dim=\"time\", keep_attrs=True)\n",
        "print(\"Done.\")\n",
        "\n",
        "# Change longitudes from 0-360 to -180 to 180, needed for the plotting\n",
        "CARRA_mean = CARRA_mean.assign_coords(longitude=(((CARRA_mean.longitude + 180) % 360) - 180))\n",
        "ERA5_mean = ERA5_mean.assign_coords(longitude=CARRA_mean.longitude)\n",
        "\n",
        "# Change unit from K to C and add the unit to the attributes\n",
        "CARRA_mean_C = CARRA_mean - 273.15\n",
        "CARRA_mean_C = CARRA_mean_C.assign_attrs(CARRA_mean.attrs)\n",
        "CARRA_mean_C.attrs['units'] = 'deg C'\n",
        "ERA5_mean_C = ERA5_mean - 273.15\n",
        "ERA5_mean_C = ERA5_mean_C.assign_attrs(ERA5_mean.attrs)\n",
        "ERA5_mean_C.attrs['units'] = 'deg C'"
      ],
      "execution_count": null,
      "outputs": []
    },
    {
      "cell_type": "markdown",
      "metadata": {},
      "source": [
        "### Plotting of ERA5"
      ]
    },
    {
      "cell_type": "code",
      "metadata": {},
      "source": [
        "import matplotlib.pyplot as plt\n",
        "import cartopy.crs as ccrs\n",
        "\n",
        "print(\"Start plotting maps\")\n",
        "print(\"Print ERA5\")\n",
        "# create the figure panel and the map using the Cartopy Lambert conformal projection\n",
        "fig, ax = plt.subplots(1, 1, figsize = (16, 8), subplot_kw={'projection': ccrs.LambertConformal(central_latitude=70.0, central_longitude=-40.0)})\n",
        "\n",
        "# Plot the data\n",
        "im = plt.pcolormesh(ERA5_mean_C.longitude, ERA5_mean_C.latitude, ERA5_mean_C.t2m, transform = ccrs.PlateCarree(), cmap='RdBu_r', vmin=-15, vmax=15)\n",
        "\n",
        "# Set the figure title\n",
        "ax.set_title('Near-surface air temperature for June 2023 based on ERA5', fontsize=16)\n",
        "ax.coastlines(color='black')\n",
        "ax.gridlines(draw_labels=True, linewidth=1, color='gray', alpha=0.5, linestyle='--') \n",
        "\n",
        "# Specify the colourbar\n",
        "cbar = plt.colorbar(im,fraction=0.05, pad=0.04)\n",
        "cbar.set_label('temperature')\n",
        "\n",
        "# Save the figure\n",
        "fig.savefig(f'{DATADIR}/Figures/ERA5_202306_map.png')"
      ],
      "execution_count": null,
      "outputs": []
    },
    {
      "cell_type": "markdown",
      "metadata": {},
      "source": [
        "### Plot the difference between CARRA and ERA5\n",
        "Note that the differences are computed in the plotting command itself."
      ]
    },
    {
      "cell_type": "code",
      "metadata": {},
      "source": [
        "print(\"Print CARRA - ERA5\")\n",
        "# create the figure panel and the map using the Cartopy Lambert conformal projection\n",
        "fig, ax = plt.subplots(1, 1, figsize = (16, 8), subplot_kw={'projection': ccrs.LambertConformal(central_latitude=70.0, central_longitude=-40.0)})\n",
        "\n",
        "# Plot the data, the differences are computed on the fly.\n",
        "im = plt.pcolormesh(CARRA_mean_C.longitude, CARRA_mean_C.latitude, ERA5_mean_C.t2m - CARRA_mean_C.t2m,\n",
        "                    transform = ccrs.PlateCarree(), cmap='RdBu_r', vmin=-10, vmax=10)\n",
        "\n",
        "# Set the figure title\n",
        "ax.set_title('Near-surface air temperature June 2023, difference ERA5 - CARRA', fontsize=16)\n",
        "ax.coastlines(color='black')\n",
        "ax.gridlines(draw_labels=True, linewidth=1, color='gray', alpha=0.5, linestyle='--') \n",
        "\n",
        "# Specify the colourbar\n",
        "cbar = plt.colorbar(im,fraction=0.05, pad=0.04)\n",
        "cbar.set_label('temperature')\n",
        "\n",
        "# Save the figure\n",
        "fig.savefig(f'{DATADIR}/Figures/ERA5-CARRA_map.png')"
      ],
      "execution_count": null,
      "outputs": []
    }
  ],
  "metadata": {
    "kernelspec": {
      "name": "python3",
      "language": "python",
      "display_name": "Python 3 (ipykernel)"
    }
  },
  "nbformat": 4,
  "nbformat_minor": 4
}
{
 "cells": [
  {
   "cell_type": "markdown",
   "metadata": {},
   "source": [
    "![logo](./img/LogoLine_horizon_C3S.png)"
   ]
  },
  {
   "cell_type": "markdown",
   "metadata": {},
   "source": [
    "## Tutorial on downloading T2m from CARRA data and computing monthly mean\n",
    "Calculate the monthly mean of the downloaded data (downloading done in part I).\n",
    "\n",
    "Plot data as a map, a simple/fast plotting and one a bit more advanced.\n",
    "\n",
    "### Libraries for working with multidimensional arrays\n",
    "Import the needed libraries and define data pathes."
   ]
  },
  {
   "cell_type": "code",
   "execution_count": null,
   "metadata": {},
   "outputs": [],
   "source": [
    "import numpy as np\n",
    "import xarray as xr\n",
    "import os\n",
    "#Here it is assumed the data was already downloaded to the path below\n",
    "DATADIR = 'CARRA'\n",
    "    \n",
    "fCARRA = f'{DATADIR}/Raw_data/T2m_an_202306.grb'"
   ]
  },
  {
   "cell_type": "markdown",
   "metadata": {},
   "source": [
    "### Open CARRA data\n",
    "Open the downloaded CARRA data, which is in GRIB-format, as a dataset in Python. Note that only the data is loaded but also the meta data connected with the data."
   ]
  },
  {
   "cell_type": "code",
   "execution_count": null,
   "metadata": {},
   "outputs": [],
   "source": [
    "CARRA = xr.open_dataset(fCARRA)"
   ]
  },
  {
   "cell_type": "markdown",
   "metadata": {},
   "source": [
    "### Compute monthly mean\n",
    "With the data opened as a dataset there is the option to create a monthly mean easely."
   ]
  },
  {
   "cell_type": "code",
   "execution_count": null,
   "metadata": {},
   "outputs": [],
   "source": [
    "print(\"Compute the mean\")\n",
    "CARRA_mean = CARRA.mean(dim=\"time\", keep_attrs=True)\n",
    "print(\"Done.\")"
   ]
  },
  {
   "cell_type": "markdown",
   "metadata": {},
   "source": [
    "### Change longitudes from 0-360 to -180 to +180\n",
    "That is needed for the plotting."
   ]
  },
  {
   "cell_type": "code",
   "execution_count": null,
   "metadata": {},
   "outputs": [],
   "source": [
    "CARRA_mean = CARRA_mean.assign_coords(longitude=(((CARRA_mean.longitude + 180) % 360) - 180))"
   ]
  },
  {
   "cell_type": "markdown",
   "metadata": {},
   "source": [
    "### Create an \"Xarray Data Array\" from the \"Xarray Dataset\"\n",
    "That's an option for the simple plot option given below. Otherwise it is not needed to switch between \"Data Array\" and \"Dataset\"."
   ]
  },
  {
   "cell_type": "code",
   "execution_count": null,
   "metadata": {},
   "outputs": [],
   "source": [
    "CARRA_da = CARRA_mean['t2m']"
   ]
  },
  {
   "cell_type": "markdown",
   "metadata": {},
   "source": [
    "### Change unit from K to C and add the unit to the attributes"
   ]
  },
  {
   "cell_type": "code",
   "execution_count": null,
   "metadata": {},
   "outputs": [],
   "source": [
    "CARRA_da_C = CARRA_da - 273.15\n",
    "CARRA_da_C = CARRA_da_C.assign_attrs(CARRA_da.attrs)\n",
    "CARRA_da_C.attrs['units'] = 'deg C'"
   ]
  },
  {
   "cell_type": "markdown",
   "metadata": {},
   "source": [
    "### Simple plot\n",
    "The data array can be plotted directly with the available plot function.\n",
    "Note that things like the title and the colorbar including the units are set automatically based on the information in the metadata.\n",
    "To save the plot, we import the package \"matplotlib\"."
   ]
  },
  {
   "cell_type": "code",
   "execution_count": null,
   "metadata": {},
   "outputs": [],
   "source": [
    "CARRA_da_C.plot()\n",
    "\n",
    "import matplotlib.pyplot as plt\n",
    "plt.savefig(f'{DATADIR}/Figures/CARRA_west_202306_simple.png')"
   ]
  },
  {
   "cell_type": "markdown",
   "metadata": {},
   "source": [
    "### More advanced plotting with matplotlib and cartopy\n",
    "With the help of matplotlib and cartopy, we produce a figure on a Lambert conformal projection. More features as for instance the costline are included in the plot, too. "
   ]
  },
  {
   "cell_type": "code",
   "execution_count": null,
   "metadata": {},
   "outputs": [],
   "source": [
    "import cartopy.crs as ccrs\n",
    "\n",
    "print(\"Start plotting maps\")\n",
    "# create the figure panel and the map using the Cartopy Lambert conformal projection\n",
    "fig, ax = plt.subplots(1, 1, figsize = (16, 8), subplot_kw={'projection': ccrs.LambertConformal(central_latitude=70.0, central_longitude=-40.0)})\n",
    "\n",
    "# Plot the data\n",
    "im = plt.pcolormesh(CARRA_da_C.longitude, CARRA_da_C.latitude, CARRA_da_C, transform = ccrs.PlateCarree(), cmap='RdBu_r', vmin=-15, vmax=15) \n",
    "\n",
    "# Set the figure title\n",
    "ax.set_title('Near-surface air temperature for June 2023 based on CARRA', fontsize=16)\n",
    "ax.coastlines(color='black')\n",
    "ax.gridlines(draw_labels=True, linewidth=1, color='gray', alpha=0.5, linestyle='--') \n",
    "\n",
    "# Specify the colourbar\n",
    "cbar = plt.colorbar(im,fraction=0.05, pad=0.04)\n",
    "cbar.set_label('temperature') \n",
    "\n",
    "# Save the figure\n",
    "fig.savefig(f'{DATADIR}/Figures/CARRA_west_202306.png')"
   ]
  }
 ],
 "metadata": {
  "kernelspec": {
   "display_name": "Python 3 (ipykernel)",
   "language": "python",
   "name": "python3"
  },
  "language_info": {
   "codemirror_mode": {
    "name": "ipython",
    "version": 3
   },
   "file_extension": ".py",
   "mimetype": "text/x-python",
   "name": "python",
   "nbconvert_exporter": "python",
   "pygments_lexer": "ipython3",
   "version": "3.11.7"
  }
 },
 "nbformat": 4,
 "nbformat_minor": 4
}
